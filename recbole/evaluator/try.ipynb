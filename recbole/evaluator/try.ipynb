{
 "cells": [
  {
   "cell_type": "code",
   "execution_count": 1,
   "id": "bbf49699",
   "metadata": {},
   "outputs": [
    {
     "name": "stdout",
     "output_type": "stream",
     "text": [
      "真实标签: [1 0 1 0 0 1 0 0 1 0]\n",
      "预测分数: [0.9  0.8  0.7  0.6  0.5  0.4  0.3  0.2  0.1  0.05]\n",
      "NDCG@5: 0.5856\n"
     ]
    }
   ],
   "source": [
    "import numpy as np\n",
    "\n",
    "def ndcg_at_k(trues, preds, k):\n",
    "    \"\"\"\n",
    "    Calculates NDCG@k for a single query.\n",
    "\n",
    "    Args:\n",
    "        trues (np.ndarray): Array of true relevance scores (binary, 0 or 1).\n",
    "        preds (np.ndarray): Array of predicted scores.\n",
    "        k (int): The cut-off point for the ranking.\n",
    "\n",
    "    Returns:\n",
    "        float: The NDCG@k score.\n",
    "    \"\"\"\n",
    "    # Sort items by predicted score in descending order\n",
    "    sorted_indices = np.argsort(preds)[::-1]\n",
    "    \n",
    "    # Get the true relevance scores in the order of the ranking\n",
    "    ranked_trues = trues[sorted_indices]\n",
    "    \n",
    "    # Truncate at k\n",
    "    top_k_trues = ranked_trues[:k]\n",
    "\n",
    "    # Calculate DCG@k\n",
    "    positions = np.arange(1, len(top_k_trues) + 1)\n",
    "    dcg = np.sum(top_k_trues / np.log2(positions + 1))\n",
    "\n",
    "    # Calculate IDCG@k\n",
    "    # Sort true relevance scores in descending order for the ideal ranking\n",
    "    ideal_sorted_trues = np.sort(trues)[::-1]\n",
    "    ideal_top_k_trues = ideal_sorted_trues[:k]\n",
    "    \n",
    "    ideal_positions = np.arange(1, len(ideal_top_k_trues) + 1)\n",
    "    idcg = np.sum(ideal_top_k_trues / np.log2(ideal_positions + 1))\n",
    "\n",
    "    # Handle the case where IDCG is zero (no relevant items)\n",
    "    if idcg == 0:\n",
    "        return 0.0\n",
    "    \n",
    "    ndcg = dcg / idcg\n",
    "    return ndcg\n",
    "\n",
    "# --- 示例 ---\n",
    "# 假设有10个项目\n",
    "N = 10\n",
    "# 真实标签 (1表示相关, 0表示不相关)\n",
    "true_labels = np.array([1, 0, 1, 0, 0, 1, 0, 0, 1, 0])\n",
    "# 模型的预测分数\n",
    "predicted_scores = np.array([0.9, 0.8, 0.7, 0.6, 0.5, 0.4, 0.3, 0.2, 0.1, 0.05])\n",
    "\n",
    "# 计算 NDCG@5\n",
    "k = 5\n",
    "ndcg_score = ndcg_at_k(true_labels, predicted_scores, k)\n",
    "\n",
    "print(f\"真实标签: {true_labels}\")\n",
    "print(f\"预测分数: {predicted_scores}\")\n",
    "print(f\"NDCG@{k}: {ndcg_score:.4f}\")\n",
    "\n",
    "#"
   ]
  }
 ],
 "metadata": {
  "kernelspec": {
   "display_name": "zhouyz",
   "language": "python",
   "name": "python3"
  },
  "language_info": {
   "codemirror_mode": {
    "name": "ipython",
    "version": 3
   },
   "file_extension": ".py",
   "mimetype": "text/x-python",
   "name": "python",
   "nbconvert_exporter": "python",
   "pygments_lexer": "ipython3",
   "version": "3.9.21"
  }
 },
 "nbformat": 4,
 "nbformat_minor": 5
}
