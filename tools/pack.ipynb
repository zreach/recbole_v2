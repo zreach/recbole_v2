{
 "cells": [
  {
   "cell_type": "code",
   "execution_count": 1,
   "id": "1340b645",
   "metadata": {},
   "outputs": [],
   "source": [
    "import pandas as pd\n",
    "import numpy as np\n",
    "import pickle\n",
    "import os"
   ]
  },
  {
   "cell_type": "code",
   "execution_count": 2,
   "id": "f25d12ca",
   "metadata": {},
   "outputs": [],
   "source": [
    "item_df = pd.read_csv(\"/user/zhouyz/rec/recbole_v2/dataset/m4a/m4a.item\", delimiter=\"\\t\")"
   ]
  },
  {
   "cell_type": "code",
   "execution_count": 16,
   "id": "26f3bf3f",
   "metadata": {},
   "outputs": [],
   "source": [
    "npy_folder = \"/user/zhouyz/rec/recbole_v2/dataset/m4a-30s-npy\"\n",
    "files = os.listdir(npy_folder)\n",
    "files = [f for f in files if f.endswith(\".npy\")]\n",
    "features_dict = {}\n",
    "for f in files:\n",
    "    file_path = os.path.join(npy_folder, f)\n",
    "    features = np.load(file_path, allow_pickle=True)\n",
    "    file_prefix = f.split(\".\")[0]\n",
    "    features = features.squeeze(1)\n",
    "    # print(features.shape)\n",
    "    assert features.shape == (12, 1024)\n",
    "    features_dict[file_prefix] = features"
   ]
  },
  {
   "cell_type": "code",
   "execution_count": 20,
   "id": "bef8cfe9",
   "metadata": {},
   "outputs": [],
   "source": [
    "with open(\"/user/zhouyz/rec/recbole_v2/dataset/m4a/m4a-muq.pkl\", \"wb\") as f:\n",
    "    pickle.dump(features_dict, f)"
   ]
  }
 ],
 "metadata": {
  "kernelspec": {
   "display_name": "zhouyz",
   "language": "python",
   "name": "python3"
  },
  "language_info": {
   "codemirror_mode": {
    "name": "ipython",
    "version": 3
   },
   "file_extension": ".py",
   "mimetype": "text/x-python",
   "name": "python",
   "nbconvert_exporter": "python",
   "pygments_lexer": "ipython3",
   "version": "3.9.21"
  }
 },
 "nbformat": 4,
 "nbformat_minor": 5
}
