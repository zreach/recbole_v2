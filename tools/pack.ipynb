{
 "cells": [
  {
   "cell_type": "code",
   "execution_count": 1,
   "id": "1340b645",
   "metadata": {},
   "outputs": [],
   "source": [
    "import pandas as pd\n",
    "import numpy as np\n",
    "import pickle\n",
    "import os"
   ]
  },
  {
   "cell_type": "code",
   "execution_count": 2,
   "id": "f25d12ca",
   "metadata": {},
   "outputs": [],
   "source": [
    "item_df = pd.read_csv(\"/user/zhouyz/rec/recbole_v2/dataset/m4a/m4a.item\", delimiter=\"\\t\")"
   ]
  },
  {
   "cell_type": "code",
   "execution_count": 16,
   "id": "26f3bf3f",
   "metadata": {},
   "outputs": [],
   "source": [
    "npy_folder = \"/user/zhouyz/rec/recbole_v2/dataset/m4a-30s-npy\"\n",
    "files = os.listdir(npy_folder)\n",
    "files = [f for f in files if f.endswith(\".npy\")]\n",
    "features_dict = {}\n",
    "for f in files:\n",
    "    file_path = os.path.join(npy_folder, f)\n",
    "    features = np.load(file_path, allow_pickle=True)\n",
    "    file_prefix = f.split(\".\")[0]\n",
    "    features = features.squeeze(1)\n",
    "    # print(features.shape)\n",
    "    assert features.shape == (12, 1024)\n",
    "    features_dict[file_prefix] = features"
   ]
  },
  {
   "cell_type": "code",
   "execution_count": 20,
   "id": "bef8cfe9",
   "metadata": {},
   "outputs": [],
   "source": [
    "with open(\"/user/zhouyz/rec/recbole_v2/dataset/m4a/m4a-muq.pkl\", \"wb\") as f:\n",
    "    pickle.dump(features_dict, f)"
   ]
  },
  {
   "cell_type": "code",
   "execution_count": 35,
   "id": "53f3fd62",
   "metadata": {},
   "outputs": [
    {
     "name": "stderr",
     "output_type": "stream",
     "text": [
      "100%|██████████| 109269/109269 [03:41<00:00, 492.61it/s] \n"
     ]
    }
   ],
   "source": [
    "from tqdm import tqdm\n",
    "npy_folder = \"/user/zhouyz/rec/recbole_v2/dataset/music4all/music4all/mfcc-mean\"\n",
    "files = os.listdir(npy_folder)\n",
    "files = [f for f in files if f.endswith(\".npy\")]\n",
    "features_dict = {}\n",
    "for f in tqdm(files):\n",
    "    file_path = os.path.join(npy_folder, f)\n",
    "    features = np.load(file_path, allow_pickle=True)\n",
    "    file_prefix = f.split(\".\")[0]\n",
    "    # print(features.shape)\n",
    "    assert features.shape == (80,)\n",
    "    features_dict[file_prefix] = features"
   ]
  },
  {
   "cell_type": "code",
   "execution_count": 36,
   "id": "16dcd5a8",
   "metadata": {},
   "outputs": [],
   "source": [
    "with open(\"/user/zhouyz/rec/recbole_v2/dataset/m4a/m4a-mfcc.pkl\", \"wb\") as f:\n",
    "    pickle.dump(features_dict, f)"
   ]
  },
  {
   "cell_type": "markdown",
   "id": "dc402216",
   "metadata": {},
   "source": [
    "## text feature"
   ]
  },
  {
   "cell_type": "code",
   "execution_count": 4,
   "id": "bc75746a",
   "metadata": {},
   "outputs": [],
   "source": [
    "npy_folder = \"/user/zhouyz/rec/recbole_v2/dataset/m4a/m4a-muqmulan-texts\"\n",
    "files = os.listdir(npy_folder)\n",
    "files = [f for f in files if f.endswith(\".npy\")]\n",
    "features_dict = {}\n",
    "for f in files:\n",
    "    file_path = os.path.join(npy_folder, f)\n",
    "    features = np.load(file_path, allow_pickle=True)\n",
    "    file_prefix = f.split(\".\")[0]\n",
    "    # features = features.squeeze(1)\n",
    "    # print(features.shape)\n",
    "    assert features.shape == (512, )\n",
    "    features_dict[file_prefix] = features"
   ]
  },
  {
   "cell_type": "code",
   "execution_count": 5,
   "id": "7ec7e4e8",
   "metadata": {},
   "outputs": [],
   "source": [
    "with open(\"/user/zhouyz/rec/recbole_v2/dataset/m4a/m4a-muqmulan-texts.pkl\", \"wb\") as f:\n",
    "    pickle.dump(features_dict, f)"
   ]
  },
  {
   "cell_type": "code",
   "execution_count": 6,
   "id": "2e35dc72",
   "metadata": {},
   "outputs": [],
   "source": [
    "npy_folder = \"/user/zhouyz/rec/recbole_v2/dataset/MSD-muqmulan-text\"\n",
    "files = os.listdir(npy_folder)\n",
    "files = [f for f in files if f.endswith(\".npy\")]\n",
    "features_dict = {}\n",
    "for f in files:\n",
    "    file_path = os.path.join(npy_folder, f)\n",
    "    features = np.load(file_path, allow_pickle=True)\n",
    "    file_prefix = f.split(\".\")[0]\n",
    "    # features = features.squeeze(1)\n",
    "    # print(features.shape)\n",
    "    assert features.shape == (512, )\n",
    "    features_dict[file_prefix] = features"
   ]
  },
  {
   "cell_type": "code",
   "execution_count": 7,
   "id": "68644846",
   "metadata": {},
   "outputs": [],
   "source": [
    "with open(\"/user/zhouyz/rec/recbole_v2/dataset/MSD-muqmulan-texts.pkl\", \"wb\") as f:\n",
    "    pickle.dump(features_dict, f)"
   ]
  },
  {
   "cell_type": "markdown",
   "id": "d144784a",
   "metadata": {},
   "source": [
    "## lfm2b"
   ]
  },
  {
   "cell_type": "code",
   "execution_count": 1,
   "id": "9a05b774",
   "metadata": {},
   "outputs": [],
   "source": [
    "import pandas as pd\n",
    "import numpy as np\n",
    "import pickle\n",
    "import os"
   ]
  },
  {
   "cell_type": "code",
   "execution_count": 4,
   "id": "705c166f",
   "metadata": {},
   "outputs": [],
   "source": [
    "with open(\"/user/zhouyz/rec/recbole_v2/dataset/MSD-muq-mean.pkl\", \"rb\") as f:\n",
    "    msd_muq = pickle.load(f)"
   ]
  },
  {
   "cell_type": "code",
   "execution_count": 18,
   "id": "454a47c9",
   "metadata": {},
   "outputs": [],
   "source": [
    "item_df = pd.read_csv(\"/user/zhouyz/rec/recbole_v2/dataset/lfm2b/lfm2b-fil.item\", delimiter=\"\\t\")"
   ]
  },
  {
   "cell_type": "code",
   "execution_count": 19,
   "id": "9bcec372",
   "metadata": {},
   "outputs": [
    {
     "data": {
      "text/html": [
       "<div>\n",
       "<style scoped>\n",
       "    .dataframe tbody tr th:only-of-type {\n",
       "        vertical-align: middle;\n",
       "    }\n",
       "\n",
       "    .dataframe tbody tr th {\n",
       "        vertical-align: top;\n",
       "    }\n",
       "\n",
       "    .dataframe thead th {\n",
       "        text-align: right;\n",
       "    }\n",
       "</style>\n",
       "<table border=\"1\" class=\"dataframe\">\n",
       "  <thead>\n",
       "    <tr style=\"text-align: right;\">\n",
       "      <th></th>\n",
       "      <th>tracks_id:token</th>\n",
       "      <th>artist_name:token</th>\n",
       "      <th>track_name:token</th>\n",
       "    </tr>\n",
       "  </thead>\n",
       "  <tbody>\n",
       "    <tr>\n",
       "      <th>0</th>\n",
       "      <td>2029</td>\n",
       "      <td>The New Raemon</td>\n",
       "      <td>!Hoy Estreno!</td>\n",
       "    </tr>\n",
       "    <tr>\n",
       "      <th>1</th>\n",
       "      <td>4430</td>\n",
       "      <td>Your Song Is Good</td>\n",
       "      <td>\"2,4,6,6,1,64\" number</td>\n",
       "    </tr>\n",
       "    <tr>\n",
       "      <th>2</th>\n",
       "      <td>4598</td>\n",
       "      <td>Blind Pilot</td>\n",
       "      <td>\"3 Rounds and a Sound\"</td>\n",
       "    </tr>\n",
       "    <tr>\n",
       "      <th>3</th>\n",
       "      <td>5370</td>\n",
       "      <td>Röyksopp</td>\n",
       "      <td>\"A Higher Place\"</td>\n",
       "    </tr>\n",
       "    <tr>\n",
       "      <th>4</th>\n",
       "      <td>6175</td>\n",
       "      <td>St. Vincent</td>\n",
       "      <td>\"Actor Out Of Work\"</td>\n",
       "    </tr>\n",
       "    <tr>\n",
       "      <th>...</th>\n",
       "      <td>...</td>\n",
       "      <td>...</td>\n",
       "      <td>...</td>\n",
       "    </tr>\n",
       "    <tr>\n",
       "      <th>95054</th>\n",
       "      <td>50640522</td>\n",
       "      <td>Rainie Yang</td>\n",
       "      <td>雨愛</td>\n",
       "    </tr>\n",
       "    <tr>\n",
       "      <th>95055</th>\n",
       "      <td>50652058</td>\n",
       "      <td>Tokyo Incidents</td>\n",
       "      <td>鞄の中身</td>\n",
       "    </tr>\n",
       "    <tr>\n",
       "      <th>95056</th>\n",
       "      <td>50653634</td>\n",
       "      <td>SEX MACHINEGUNS</td>\n",
       "      <td>頬白鮫の悲劇</td>\n",
       "    </tr>\n",
       "    <tr>\n",
       "      <th>95057</th>\n",
       "      <td>50662690</td>\n",
       "      <td>Vic Chou</td>\n",
       "      <td>馬賽克</td>\n",
       "    </tr>\n",
       "    <tr>\n",
       "      <th>95058</th>\n",
       "      <td>50669118</td>\n",
       "      <td>CoCo Lee</td>\n",
       "      <td>魔鏡</td>\n",
       "    </tr>\n",
       "  </tbody>\n",
       "</table>\n",
       "<p>95059 rows × 3 columns</p>\n",
       "</div>"
      ],
      "text/plain": [
       "       tracks_id:token  artist_name:token        track_name:token\n",
       "0                 2029     The New Raemon           !Hoy Estreno!\n",
       "1                 4430  Your Song Is Good   \"2,4,6,6,1,64\" number\n",
       "2                 4598        Blind Pilot  \"3 Rounds and a Sound\"\n",
       "3                 5370           Röyksopp        \"A Higher Place\"\n",
       "4                 6175        St. Vincent     \"Actor Out Of Work\"\n",
       "...                ...                ...                     ...\n",
       "95054         50640522        Rainie Yang                      雨愛\n",
       "95055         50652058    Tokyo Incidents                    鞄の中身\n",
       "95056         50653634    SEX MACHINEGUNS                  頬白鮫の悲劇\n",
       "95057         50662690           Vic Chou                     馬賽克\n",
       "95058         50669118           CoCo Lee                      魔鏡\n",
       "\n",
       "[95059 rows x 3 columns]"
      ]
     },
     "execution_count": 19,
     "metadata": {},
     "output_type": "execute_result"
    }
   ],
   "source": [
    "item_df"
   ]
  },
  {
   "cell_type": "code",
   "execution_count": 20,
   "id": "efd675f4",
   "metadata": {},
   "outputs": [],
   "source": [
    "id2msd = pd.read_csv('/user/zhouyz/rec/recbole_v2/dataset/lfm2b/id_msd.csv', sep='\\t')\n",
    "id2msd_dict = dict(zip(id2msd['track_id'], id2msd['key']))\n",
    "msd2id_dict = dict(zip(id2msd['key'], id2msd['track_id']))\n"
   ]
  },
  {
   "cell_type": "code",
   "execution_count": 25,
   "id": "9afd5a95",
   "metadata": {},
   "outputs": [
    {
     "name": "stderr",
     "output_type": "stream",
     "text": [
      "100%|██████████| 125445/125445 [00:00<00:00, 700018.85it/s]\n"
     ]
    }
   ],
   "source": [
    "from tqdm import tqdm\n",
    "lfm_muq_dict = {}\n",
    "for k, v in tqdm(msd_muq.items()):\n",
    "    if k in msd2id_dict.keys():\n",
    "        lfm_muq_dict[str(msd2id_dict[k])] = v\n",
    "        "
   ]
  },
  {
   "cell_type": "code",
   "execution_count": 26,
   "id": "7caa0fa7",
   "metadata": {},
   "outputs": [
    {
     "data": {
      "text/plain": [
       "str"
      ]
     },
     "execution_count": 26,
     "metadata": {},
     "output_type": "execute_result"
    }
   ],
   "source": [
    "type(list(lfm_muq_dict.keys())[0])"
   ]
  },
  {
   "cell_type": "code",
   "execution_count": 27,
   "id": "8e1a5e2a",
   "metadata": {},
   "outputs": [
    {
     "name": "stdout",
     "output_type": "stream",
     "text": [
      "95059\n"
     ]
    }
   ],
   "source": [
    "print(len(set(lfm_muq_dict.keys())))\n",
    "with open(\"/user/zhouyz/rec/recbole_v2/dataset/lfm2b/lfm2b-muq.pkl\", \"wb\") as f:\n",
    "    pickle.dump(lfm_muq_dict, f)"
   ]
  },
  {
   "cell_type": "code",
   "execution_count": null,
   "id": "536e9075",
   "metadata": {},
   "outputs": [
    {
     "name": "stdout",
     "output_type": "stream",
     "text": [
      "125445\n"
     ]
    },
    {
     "name": "stderr",
     "output_type": "stream",
     "text": [
      "100%|██████████| 125445/125445 [31:00<00:00, 67.41it/s] \n"
     ]
    }
   ],
   "source": [
    "# import numpy as np\n",
    "# from tqdm import tqdm\n",
    "\n",
    "# npy_folder = \"/user/zhouyz/rec/recbole_v2/dataset/MSD-npy\"\n",
    "# files = os.listdir(npy_folder)\n",
    "# files = [f for f in files if f.endswith(\".npy\")]\n",
    "# print(len(files))\n",
    "# features_dict = {}\n",
    "# for f in tqdm(files):\n",
    "#     file_path = os.path.join(npy_folder, f)\n",
    "#     features = np.load(file_path, allow_pickle=True) # (12, T ,1024)\n",
    "#     file_prefix = f.split(\".\")[0]\n",
    "#     # features = np.mean(features, axis=1)  # Average over time dimension\n",
    "#     # print(features.shape)\n",
    "#     # assert features.shape == (12, 1024)\n",
    "#     assert len(features.shape) == 3 and features.shape[0] == 12 and features.shape[2] == 1024\n",
    "#     features_dict[file_prefix] = features\n",
    "\n",
    "# with open(\"/user/zhouyz/rec/recbole_v2/dataset/MSD-muq-time.pkl\", \"wb\") as f:\n",
    "#     pickle.dump(features_dict, f)"
   ]
  },
  {
   "cell_type": "code",
   "execution_count": null,
   "id": "c9069bf9",
   "metadata": {},
   "outputs": [
    {
     "name": "stdout",
     "output_type": "stream",
     "text": [
      "125445\n"
     ]
    },
    {
     "name": "stderr",
     "output_type": "stream",
     "text": [
      "100%|██████████| 125445/125445 [25:00<00:00, 83.61it/s] \n"
     ]
    }
   ],
   "source": [
    "# # audio feature\n",
    "# import numpy as np\n",
    "# from tqdm import tqdm\n",
    "\n",
    "# npy_folder = \"/user/zhouyz/rec/recbole_v2/dataset/MSD-npy\"\n",
    "# files = os.listdir(npy_folder)\n",
    "# files = [f for f in files if f.endswith(\".npy\")]\n",
    "# print(len(files))\n",
    "# features_dict = {}\n",
    "# for f in tqdm(files):\n",
    "#     file_path = os.path.join(npy_folder, f)\n",
    "#     features = np.load(file_path, allow_pickle=True) # (12, T ,1024)\n",
    "#     file_prefix = f.split(\".\")[0]\n",
    "#     features = np.mean(features, axis=1)  # Average over time dimension\n",
    "#     # print(features.shape)\n",
    "#     assert features.shape == (12, 1024)\n",
    "#     features_dict[file_prefix] = features\n",
    "\n",
    "# with open(\"/user/zhouyz/rec/recbole_v2/dataset/MSD-muq-mean.pkl\", \"wb\") as f:\n",
    "#     pickle.dump(features_dict, f)"
   ]
  },
  {
   "cell_type": "code",
   "execution_count": null,
   "id": "c8a711c9",
   "metadata": {},
   "outputs": [
    {
     "data": {
      "text/plain": [
       "(12, 6, 1024)"
      ]
     },
     "execution_count": 25,
     "metadata": {},
     "output_type": "execute_result"
    }
   ],
   "source": []
  },
  {
   "cell_type": "code",
   "execution_count": null,
   "id": "8feffe89",
   "metadata": {},
   "outputs": [],
   "source": []
  },
  {
   "cell_type": "code",
   "execution_count": null,
   "id": "945b5087",
   "metadata": {},
   "outputs": [],
   "source": [
    "# text features\n",
    "data = []\n",
    "with open(\"/user/zhouyz/rec/recbole_v2/dataset/lfm2b/tags_all_music.tsv\", 'r', encoding='utf-8') as f:\n",
    "    column_names = f.readline().strip().split('\\t')[:4] + ['tags']\n",
    "    for line in f:\n",
    "        parts = line.strip().split('\\t')\n",
    "        if len(parts) >= 4:\n",
    "            # 前四列为固定列\n",
    "            row_data = parts[:4]\n",
    "            # 第五列及之后的所有部分合并为tags列表\n",
    "            tags = parts[4:]\n",
    "            row_data.append(tags)\n",
    "            data.append(row_data)\n",
    "\n",
    "tags_df = pd.DataFrame(data, columns=column_names)"
   ]
  },
  {
   "cell_type": "code",
   "execution_count": 17,
   "id": "63445f02",
   "metadata": {},
   "outputs": [
    {
     "data": {
      "text/html": [
       "<div>\n",
       "<style scoped>\n",
       "    .dataframe tbody tr th:only-of-type {\n",
       "        vertical-align: middle;\n",
       "    }\n",
       "\n",
       "    .dataframe tbody tr th {\n",
       "        vertical-align: top;\n",
       "    }\n",
       "\n",
       "    .dataframe thead th {\n",
       "        text-align: right;\n",
       "    }\n",
       "</style>\n",
       "<table border=\"1\" class=\"dataframe\">\n",
       "  <thead>\n",
       "    <tr style=\"text-align: right;\">\n",
       "      <th></th>\n",
       "      <th>track_id</th>\n",
       "      <th>artist</th>\n",
       "      <th>track</th>\n",
       "      <th>count</th>\n",
       "      <th>tags</th>\n",
       "    </tr>\n",
       "  </thead>\n",
       "  <tbody>\n",
       "    <tr>\n",
       "      <th>0</th>\n",
       "      <td>36346257</td>\n",
       "      <td>Gotye</td>\n",
       "      <td>Somebody That I Used to Know</td>\n",
       "      <td>284021</td>\n",
       "      <td>[electronic, pop, rock]</td>\n",
       "    </tr>\n",
       "    <tr>\n",
       "      <th>1</th>\n",
       "      <td>32496162</td>\n",
       "      <td>Imagine Dragons</td>\n",
       "      <td>Radioactive</td>\n",
       "      <td>233427</td>\n",
       "      <td>[rock, electronic, pop]</td>\n",
       "    </tr>\n",
       "    <tr>\n",
       "      <th>2</th>\n",
       "      <td>33619193</td>\n",
       "      <td>Adele</td>\n",
       "      <td>Rolling in the Deep</td>\n",
       "      <td>223400</td>\n",
       "      <td>[pop, blues, jazz, rock, rnb, vocal]</td>\n",
       "    </tr>\n",
       "    <tr>\n",
       "      <th>3</th>\n",
       "      <td>32083560</td>\n",
       "      <td>Foster the People</td>\n",
       "      <td>Pumped Up Kicks</td>\n",
       "      <td>211291</td>\n",
       "      <td>[pop, electronic, rock, holiday]</td>\n",
       "    </tr>\n",
       "    <tr>\n",
       "      <th>4</th>\n",
       "      <td>45222862</td>\n",
       "      <td>Pink Floyd</td>\n",
       "      <td>Wish You Were Here</td>\n",
       "      <td>211148</td>\n",
       "      <td>[rock, classical, pop]</td>\n",
       "    </tr>\n",
       "    <tr>\n",
       "      <th>...</th>\n",
       "      <td>...</td>\n",
       "      <td>...</td>\n",
       "      <td>...</td>\n",
       "      <td>...</td>\n",
       "      <td>...</td>\n",
       "    </tr>\n",
       "    <tr>\n",
       "      <th>1874813</th>\n",
       "      <td>35182113</td>\n",
       "      <td>U-Roy</td>\n",
       "      <td>Sharper Than Joe Fraser</td>\n",
       "      <td>1</td>\n",
       "      <td>[reggae]</td>\n",
       "    </tr>\n",
       "    <tr>\n",
       "      <th>1874814</th>\n",
       "      <td>19273327</td>\n",
       "      <td>Chris Ardoin</td>\n",
       "      <td>I Don't Want Nobody Here But You</td>\n",
       "      <td>1</td>\n",
       "      <td>[blues]</td>\n",
       "    </tr>\n",
       "    <tr>\n",
       "      <th>1874815</th>\n",
       "      <td>27785946</td>\n",
       "      <td>Crystal Distortion</td>\n",
       "      <td>NY2023</td>\n",
       "      <td>1</td>\n",
       "      <td>[electronic]</td>\n",
       "    </tr>\n",
       "    <tr>\n",
       "      <th>1874816</th>\n",
       "      <td>27668260</td>\n",
       "      <td>Pod</td>\n",
       "      <td>Myopsis (Dark Comedy Mix)</td>\n",
       "      <td>1</td>\n",
       "      <td>[electronic]</td>\n",
       "    </tr>\n",
       "    <tr>\n",
       "      <th>1874817</th>\n",
       "      <td>44957740</td>\n",
       "      <td>Claude VonStroke</td>\n",
       "      <td>Who's Afraid of Detroit - Tanner Ross Remix</td>\n",
       "      <td>1</td>\n",
       "      <td>[electronic]</td>\n",
       "    </tr>\n",
       "  </tbody>\n",
       "</table>\n",
       "<p>1874818 rows × 5 columns</p>\n",
       "</div>"
      ],
      "text/plain": [
       "         track_id              artist  \\\n",
       "0        36346257               Gotye   \n",
       "1        32496162     Imagine Dragons   \n",
       "2        33619193               Adele   \n",
       "3        32083560   Foster the People   \n",
       "4        45222862          Pink Floyd   \n",
       "...           ...                 ...   \n",
       "1874813  35182113               U-Roy   \n",
       "1874814  19273327        Chris Ardoin   \n",
       "1874815  27785946  Crystal Distortion   \n",
       "1874816  27668260                 Pod   \n",
       "1874817  44957740    Claude VonStroke   \n",
       "\n",
       "                                               track   count  \\\n",
       "0                       Somebody That I Used to Know  284021   \n",
       "1                                        Radioactive  233427   \n",
       "2                                Rolling in the Deep  223400   \n",
       "3                                    Pumped Up Kicks  211291   \n",
       "4                                 Wish You Were Here  211148   \n",
       "...                                              ...     ...   \n",
       "1874813                      Sharper Than Joe Fraser       1   \n",
       "1874814             I Don't Want Nobody Here But You       1   \n",
       "1874815                                       NY2023       1   \n",
       "1874816                    Myopsis (Dark Comedy Mix)       1   \n",
       "1874817  Who's Afraid of Detroit - Tanner Ross Remix       1   \n",
       "\n",
       "                                         tags  \n",
       "0                     [electronic, pop, rock]  \n",
       "1                     [rock, electronic, pop]  \n",
       "2        [pop, blues, jazz, rock, rnb, vocal]  \n",
       "3            [pop, electronic, rock, holiday]  \n",
       "4                      [rock, classical, pop]  \n",
       "...                                       ...  \n",
       "1874813                              [reggae]  \n",
       "1874814                               [blues]  \n",
       "1874815                          [electronic]  \n",
       "1874816                          [electronic]  \n",
       "1874817                          [electronic]  \n",
       "\n",
       "[1874818 rows x 5 columns]"
      ]
     },
     "execution_count": 17,
     "metadata": {},
     "output_type": "execute_result"
    }
   ],
   "source": [
    "tags_df"
   ]
  },
  {
   "cell_type": "code",
   "execution_count": 22,
   "id": "6bc4c9e6",
   "metadata": {},
   "outputs": [
    {
     "name": "stderr",
     "output_type": "stream",
     "text": [
      "100%|██████████| 94898/94898 [00:36<00:00, 2602.98it/s]"
     ]
    },
    {
     "name": "stdout",
     "output_type": "stream",
     "text": [
      "Missing files: 68428\n"
     ]
    },
    {
     "name": "stderr",
     "output_type": "stream",
     "text": [
      "\n"
     ]
    }
   ],
   "source": [
    "from tqdm import tqdm\n",
    "npy_folder = \"/user/zhouyz/rec/recbole_v2/dataset/lfm2b/lfm2b-muqmulan-texts\"\n",
    "\n",
    "cnt = 0\n",
    "features_dict = {}\n",
    "for f in tqdm(files):\n",
    "    file_prefix = f.split(\".\")[0]\n",
    "    file_path = os.path.join(npy_folder, f)\n",
    "    if not os.path.exists(file_path):\n",
    "        cnt += 1\n",
    "        features = np.zeros((512, ), dtype=np.float32)\n",
    "    else:\n",
    "        features = np.load(file_path, allow_pickle=True)\n",
    "        features_dict[file_prefix] = features\n",
    "\n",
    "print(f\"Missing files: {cnt}\")"
   ]
  },
  {
   "cell_type": "code",
   "execution_count": 23,
   "id": "734989f4",
   "metadata": {},
   "outputs": [],
   "source": [
    "with open(\"/user/zhouyz/rec/recbole_v2/dataset/lfm2b/lfm2b-muqmulan-texts.pkl\", \"wb\") as f:\n",
    "    pickle.dump(features_dict, f)"
   ]
  },
  {
   "cell_type": "markdown",
   "id": "8ffbd66b",
   "metadata": {},
   "source": [
    "## lfm1b"
   ]
  },
  {
   "cell_type": "code",
   "execution_count": 31,
   "id": "d3d317af",
   "metadata": {},
   "outputs": [],
   "source": [
    "id2msd = pd.read_csv('/user/zhouyz/rec/recbole_v2/dataset/lfm1b-fil/id_msd.csv', sep='\\t')\n",
    "id2msd_dict = dict(zip(id2msd['tracks_id:token'], id2msd['key']))\n",
    "msd2id_dict = dict(zip(id2msd['key'], id2msd['tracks_id:token']))"
   ]
  },
  {
   "cell_type": "code",
   "execution_count": 34,
   "id": "6b986f7e",
   "metadata": {},
   "outputs": [
    {
     "data": {
      "text/html": [
       "<div>\n",
       "<style scoped>\n",
       "    .dataframe tbody tr th:only-of-type {\n",
       "        vertical-align: middle;\n",
       "    }\n",
       "\n",
       "    .dataframe tbody tr th {\n",
       "        vertical-align: top;\n",
       "    }\n",
       "\n",
       "    .dataframe thead th {\n",
       "        text-align: right;\n",
       "    }\n",
       "</style>\n",
       "<table border=\"1\" class=\"dataframe\">\n",
       "  <thead>\n",
       "    <tr style=\"text-align: right;\">\n",
       "      <th></th>\n",
       "      <th>tracks_id:token</th>\n",
       "      <th>name:token_seq</th>\n",
       "      <th>artists_id:token</th>\n",
       "      <th>key:token</th>\n",
       "      <th>feature_0:token</th>\n",
       "      <th>feature_1:token</th>\n",
       "      <th>feature_2:token</th>\n",
       "      <th>feature_3:token</th>\n",
       "      <th>feature_4:token</th>\n",
       "      <th>feature_5:token</th>\n",
       "      <th>feature_6:token</th>\n",
       "      <th>feature_7:token</th>\n",
       "      <th>feature_8:token</th>\n",
       "      <th>feature_9:token</th>\n",
       "      <th>feature_10:token</th>\n",
       "      <th>feature_11:token</th>\n",
       "      <th>feature_12:token</th>\n",
       "      <th>feature_13:token</th>\n",
       "    </tr>\n",
       "  </thead>\n",
       "  <tbody>\n",
       "    <tr>\n",
       "      <th>0</th>\n",
       "      <td>10</td>\n",
       "      <td>The Pursuit Of Vikings</td>\n",
       "      <td>8</td>\n",
       "      <td>TRYDODF144D0B4A021</td>\n",
       "      <td>17</td>\n",
       "      <td>10</td>\n",
       "      <td>9</td>\n",
       "      <td>9</td>\n",
       "      <td>9</td>\n",
       "      <td>9</td>\n",
       "      <td>9</td>\n",
       "      <td>9</td>\n",
       "      <td>9</td>\n",
       "      <td>-1</td>\n",
       "      <td>-1</td>\n",
       "      <td>-1</td>\n",
       "      <td>-1</td>\n",
       "      <td>-1</td>\n",
       "    </tr>\n",
       "    <tr>\n",
       "      <th>1</th>\n",
       "      <td>74</td>\n",
       "      <td>Fall to Pieces</td>\n",
       "      <td>28</td>\n",
       "      <td>TRJGUZK147B6DFB3BD</td>\n",
       "      <td>8</td>\n",
       "      <td>10</td>\n",
       "      <td>10</td>\n",
       "      <td>10</td>\n",
       "      <td>0</td>\n",
       "      <td>15</td>\n",
       "      <td>-1</td>\n",
       "      <td>-1</td>\n",
       "      <td>-1</td>\n",
       "      <td>-1</td>\n",
       "      <td>-1</td>\n",
       "      <td>-1</td>\n",
       "      <td>-1</td>\n",
       "      <td>-1</td>\n",
       "    </tr>\n",
       "    <tr>\n",
       "      <th>2</th>\n",
       "      <td>87</td>\n",
       "      <td>Octane Twisted</td>\n",
       "      <td>4</td>\n",
       "      <td>TRHIYFL144D0FAC912</td>\n",
       "      <td>8</td>\n",
       "      <td>8</td>\n",
       "      <td>15</td>\n",
       "      <td>9</td>\n",
       "      <td>9</td>\n",
       "      <td>9</td>\n",
       "      <td>9</td>\n",
       "      <td>0</td>\n",
       "      <td>18</td>\n",
       "      <td>18</td>\n",
       "      <td>-1</td>\n",
       "      <td>-1</td>\n",
       "      <td>-1</td>\n",
       "      <td>-1</td>\n",
       "    </tr>\n",
       "    <tr>\n",
       "      <th>3</th>\n",
       "      <td>92</td>\n",
       "      <td>Silent Wars</td>\n",
       "      <td>33</td>\n",
       "      <td>TRHGGZV15026ED0D45</td>\n",
       "      <td>1</td>\n",
       "      <td>10</td>\n",
       "      <td>9</td>\n",
       "      <td>9</td>\n",
       "      <td>9</td>\n",
       "      <td>9</td>\n",
       "      <td>9</td>\n",
       "      <td>9</td>\n",
       "      <td>-1</td>\n",
       "      <td>-1</td>\n",
       "      <td>-1</td>\n",
       "      <td>-1</td>\n",
       "      <td>-1</td>\n",
       "      <td>-1</td>\n",
       "    </tr>\n",
       "    <tr>\n",
       "      <th>4</th>\n",
       "      <td>102</td>\n",
       "      <td>Great Expectations</td>\n",
       "      <td>4</td>\n",
       "      <td>TRBQZUQ144D1B4A3F0</td>\n",
       "      <td>8</td>\n",
       "      <td>10</td>\n",
       "      <td>-1</td>\n",
       "      <td>-1</td>\n",
       "      <td>-1</td>\n",
       "      <td>-1</td>\n",
       "      <td>-1</td>\n",
       "      <td>-1</td>\n",
       "      <td>-1</td>\n",
       "      <td>-1</td>\n",
       "      <td>-1</td>\n",
       "      <td>-1</td>\n",
       "      <td>-1</td>\n",
       "      <td>-1</td>\n",
       "    </tr>\n",
       "    <tr>\n",
       "      <th>...</th>\n",
       "      <td>...</td>\n",
       "      <td>...</td>\n",
       "      <td>...</td>\n",
       "      <td>...</td>\n",
       "      <td>...</td>\n",
       "      <td>...</td>\n",
       "      <td>...</td>\n",
       "      <td>...</td>\n",
       "      <td>...</td>\n",
       "      <td>...</td>\n",
       "      <td>...</td>\n",
       "      <td>...</td>\n",
       "      <td>...</td>\n",
       "      <td>...</td>\n",
       "      <td>...</td>\n",
       "      <td>...</td>\n",
       "      <td>...</td>\n",
       "      <td>...</td>\n",
       "    </tr>\n",
       "    <tr>\n",
       "      <th>85705</th>\n",
       "      <td>32284989</td>\n",
       "      <td>Non Lo Saprai Mai</td>\n",
       "      <td>632353</td>\n",
       "      <td>TRGJTMD144D17EE816</td>\n",
       "      <td>17</td>\n",
       "      <td>3</td>\n",
       "      <td>15</td>\n",
       "      <td>15</td>\n",
       "      <td>15</td>\n",
       "      <td>15</td>\n",
       "      <td>0</td>\n",
       "      <td>18</td>\n",
       "      <td>-1</td>\n",
       "      <td>-1</td>\n",
       "      <td>-1</td>\n",
       "      <td>-1</td>\n",
       "      <td>-1</td>\n",
       "      <td>-1</td>\n",
       "    </tr>\n",
       "    <tr>\n",
       "      <th>85706</th>\n",
       "      <td>32288483</td>\n",
       "      <td>Yerberito</td>\n",
       "      <td>838481</td>\n",
       "      <td>TRFKKHX144D0F5A787</td>\n",
       "      <td>17</td>\n",
       "      <td>17</td>\n",
       "      <td>17</td>\n",
       "      <td>7</td>\n",
       "      <td>7</td>\n",
       "      <td>7</td>\n",
       "      <td>7</td>\n",
       "      <td>-1</td>\n",
       "      <td>-1</td>\n",
       "      <td>-1</td>\n",
       "      <td>-1</td>\n",
       "      <td>-1</td>\n",
       "      <td>-1</td>\n",
       "      <td>-1</td>\n",
       "    </tr>\n",
       "    <tr>\n",
       "      <th>85707</th>\n",
       "      <td>32288484</td>\n",
       "      <td>Columbia</td>\n",
       "      <td>838481</td>\n",
       "      <td>TRFYRMU144D1D34828</td>\n",
       "      <td>8</td>\n",
       "      <td>8</td>\n",
       "      <td>18</td>\n",
       "      <td>18</td>\n",
       "      <td>18</td>\n",
       "      <td>18</td>\n",
       "      <td>7</td>\n",
       "      <td>7</td>\n",
       "      <td>7</td>\n",
       "      <td>7</td>\n",
       "      <td>7</td>\n",
       "      <td>-1</td>\n",
       "      <td>-1</td>\n",
       "      <td>-1</td>\n",
       "    </tr>\n",
       "    <tr>\n",
       "      <th>85708</th>\n",
       "      <td>32288965</td>\n",
       "      <td>Disappointed - Dirty</td>\n",
       "      <td>92657</td>\n",
       "      <td>TRHEOYJ144D16C90DB</td>\n",
       "      <td>11</td>\n",
       "      <td>11</td>\n",
       "      <td>11</td>\n",
       "      <td>6</td>\n",
       "      <td>6</td>\n",
       "      <td>6</td>\n",
       "      <td>6</td>\n",
       "      <td>6</td>\n",
       "      <td>-1</td>\n",
       "      <td>-1</td>\n",
       "      <td>-1</td>\n",
       "      <td>-1</td>\n",
       "      <td>-1</td>\n",
       "      <td>-1</td>\n",
       "    </tr>\n",
       "    <tr>\n",
       "      <th>85709</th>\n",
       "      <td>32289086</td>\n",
       "      <td>El Imán de las Gordas</td>\n",
       "      <td>521853</td>\n",
       "      <td>TRHOOIC144D1C0A737</td>\n",
       "      <td>10</td>\n",
       "      <td>10</td>\n",
       "      <td>9</td>\n",
       "      <td>9</td>\n",
       "      <td>-1</td>\n",
       "      <td>-1</td>\n",
       "      <td>-1</td>\n",
       "      <td>-1</td>\n",
       "      <td>-1</td>\n",
       "      <td>-1</td>\n",
       "      <td>-1</td>\n",
       "      <td>-1</td>\n",
       "      <td>-1</td>\n",
       "      <td>-1</td>\n",
       "    </tr>\n",
       "  </tbody>\n",
       "</table>\n",
       "<p>85710 rows × 18 columns</p>\n",
       "</div>"
      ],
      "text/plain": [
       "       tracks_id:token          name:token_seq  artists_id:token  \\\n",
       "0                   10  The Pursuit Of Vikings                 8   \n",
       "1                   74          Fall to Pieces                28   \n",
       "2                   87          Octane Twisted                 4   \n",
       "3                   92             Silent Wars                33   \n",
       "4                  102      Great Expectations                 4   \n",
       "...                ...                     ...               ...   \n",
       "85705         32284989       Non Lo Saprai Mai            632353   \n",
       "85706         32288483               Yerberito            838481   \n",
       "85707         32288484                Columbia            838481   \n",
       "85708         32288965    Disappointed - Dirty             92657   \n",
       "85709         32289086   El Imán de las Gordas            521853   \n",
       "\n",
       "                key:token  feature_0:token  feature_1:token  feature_2:token  \\\n",
       "0      TRYDODF144D0B4A021               17               10                9   \n",
       "1      TRJGUZK147B6DFB3BD                8               10               10   \n",
       "2      TRHIYFL144D0FAC912                8                8               15   \n",
       "3      TRHGGZV15026ED0D45                1               10                9   \n",
       "4      TRBQZUQ144D1B4A3F0                8               10               -1   \n",
       "...                   ...              ...              ...              ...   \n",
       "85705  TRGJTMD144D17EE816               17                3               15   \n",
       "85706  TRFKKHX144D0F5A787               17               17               17   \n",
       "85707  TRFYRMU144D1D34828                8                8               18   \n",
       "85708  TRHEOYJ144D16C90DB               11               11               11   \n",
       "85709  TRHOOIC144D1C0A737               10               10                9   \n",
       "\n",
       "       feature_3:token  feature_4:token  feature_5:token  feature_6:token  \\\n",
       "0                    9                9                9                9   \n",
       "1                   10                0               15               -1   \n",
       "2                    9                9                9                9   \n",
       "3                    9                9                9                9   \n",
       "4                   -1               -1               -1               -1   \n",
       "...                ...              ...              ...              ...   \n",
       "85705               15               15               15                0   \n",
       "85706                7                7                7                7   \n",
       "85707               18               18               18                7   \n",
       "85708                6                6                6                6   \n",
       "85709                9               -1               -1               -1   \n",
       "\n",
       "       feature_7:token  feature_8:token  feature_9:token  feature_10:token  \\\n",
       "0                    9                9               -1                -1   \n",
       "1                   -1               -1               -1                -1   \n",
       "2                    0               18               18                -1   \n",
       "3                    9               -1               -1                -1   \n",
       "4                   -1               -1               -1                -1   \n",
       "...                ...              ...              ...               ...   \n",
       "85705               18               -1               -1                -1   \n",
       "85706               -1               -1               -1                -1   \n",
       "85707                7                7                7                 7   \n",
       "85708                6               -1               -1                -1   \n",
       "85709               -1               -1               -1                -1   \n",
       "\n",
       "       feature_11:token  feature_12:token  feature_13:token  \n",
       "0                    -1                -1                -1  \n",
       "1                    -1                -1                -1  \n",
       "2                    -1                -1                -1  \n",
       "3                    -1                -1                -1  \n",
       "4                    -1                -1                -1  \n",
       "...                 ...               ...               ...  \n",
       "85705                -1                -1                -1  \n",
       "85706                -1                -1                -1  \n",
       "85707                -1                -1                -1  \n",
       "85708                -1                -1                -1  \n",
       "85709                -1                -1                -1  \n",
       "\n",
       "[85710 rows x 18 columns]"
      ]
     },
     "execution_count": 34,
     "metadata": {},
     "output_type": "execute_result"
    }
   ],
   "source": [
    "item_df = pd.read_csv(\"/user/zhouyz/rec/recbole_v2/dataset/lfm1b-fil/lfm1b-fil.item\", delimiter=\"\\t\")\n",
    "item_df"
   ]
  },
  {
   "cell_type": "code",
   "execution_count": 42,
   "id": "fc449aea",
   "metadata": {},
   "outputs": [
    {
     "name": "stderr",
     "output_type": "stream",
     "text": [
      "  0%|          | 0/125445 [00:00<?, ?it/s]"
     ]
    },
    {
     "name": "stderr",
     "output_type": "stream",
     "text": [
      "100%|██████████| 125445/125445 [04:09<00:00, 502.74it/s]\n"
     ]
    }
   ],
   "source": [
    "from tqdm import tqdm\n",
    "lfm_muq_dict = {}\n",
    "for k, v in tqdm(msd_muq.items()):\n",
    "    if k in item_df['key:token'].values:\n",
    "        lfm_muq_dict[str(msd2id_dict[k])] = v"
   ]
  },
  {
   "cell_type": "code",
   "execution_count": 43,
   "id": "8dbbbe83",
   "metadata": {},
   "outputs": [
    {
     "data": {
      "text/plain": [
       "85710"
      ]
     },
     "execution_count": 43,
     "metadata": {},
     "output_type": "execute_result"
    }
   ],
   "source": [
    "len(set(lfm_muq_dict.keys()))"
   ]
  },
  {
   "cell_type": "code",
   "execution_count": 44,
   "id": "e69e1281",
   "metadata": {},
   "outputs": [],
   "source": [
    "with open(\"/user/zhouyz/rec/recbole_v2/dataset/lfm1b-fil/lfm1b-fil-muq.pkl\", \"wb\") as f:\n",
    "    pickle.dump(lfm_muq_dict, f)"
   ]
  }
 ],
 "metadata": {
  "kernelspec": {
   "display_name": "zhouyz",
   "language": "python",
   "name": "python3"
  },
  "language_info": {
   "codemirror_mode": {
    "name": "ipython",
    "version": 3
   },
   "file_extension": ".py",
   "mimetype": "text/x-python",
   "name": "python",
   "nbconvert_exporter": "python",
   "pygments_lexer": "ipython3",
   "version": "3.9.21"
  }
 },
 "nbformat": 4,
 "nbformat_minor": 5
}
