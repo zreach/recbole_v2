{
 "cells": [
  {
   "cell_type": "code",
   "execution_count": null,
   "id": "f754b822",
   "metadata": {},
   "outputs": [
    {
     "name": "stderr",
     "output_type": "stream",
     "text": [
      "/user/zhouyz/anaconda3/envs/zhouyz/lib/python3.9/site-packages/torch/nn/utils/weight_norm.py:143: FutureWarning: `torch.nn.utils.weight_norm` is deprecated in favor of `torch.nn.utils.parametrizations.weight_norm`.\n",
      "  WeightNorm.apply(module, name, dim)\n"
     ]
    },
    {
     "name": "stdout",
     "output_type": "stream",
     "text": [
      "Total number of layers:  13\n",
      "Feature shape:  torch.Size([1, 3993, 1024])\n"
     ]
    }
   ],
   "source": [
    "import torch, librosa\n",
    "from muq import MuQ\n",
    "\n",
    "device = 'cuda'\n",
    "wav, sr = librosa.load(\"/data2/zhouyz/rec/MSD/MSD_2/save/AA/TRAAJEN144D1BB07C0.mp3\", sr = 24000)\n",
    "wavs = torch.tensor(wav).unsqueeze(0).to(device) \n",
    "\n",
    "# This will automatically fetch the checkpoint from huggingface\n",
    "muq = MuQ.from_pretrained(\"OpenMuQ/MuQ-large-msd-iter\")\n",
    "muq = muq.to(device).eval()\n",
    "\n",
    "with torch.no_grad():\n",
    "    output = muq(wavs, output_hidden_states=True)\n",
    "\n",
    "print('Total number of layers: ', len(output.hidden_states))\n",
    "print('Feature shape: ', output.hidden_states[0].shape) # L: 13"
   ]
  },
  {
   "cell_type": "code",
   "execution_count": 9,
   "id": "37055e1f",
   "metadata": {},
   "outputs": [
    {
     "name": "stdout",
     "output_type": "stream",
     "text": [
      "All features shape:  (12, 1024)\n"
     ]
    }
   ],
   "source": [
    "import numpy as np\n",
    "all_features = []\n",
    "for l in range(1, len(output.hidden_states)):\n",
    "    feature_i = output.hidden_states[0].detach().cpu().numpy().squeeze().mean(axis=0)\n",
    "    all_features.append(feature_i)\n",
    "\n",
    "all_features = np.array(all_features)\n",
    "print('All features shape: ', all_features.shape) # (13, 1024)"
   ]
  }
 ],
 "metadata": {
  "kernelspec": {
   "display_name": "zhouyz",
   "language": "python",
   "name": "python3"
  },
  "language_info": {
   "codemirror_mode": {
    "name": "ipython",
    "version": 3
   },
   "file_extension": ".py",
   "mimetype": "text/x-python",
   "name": "python",
   "nbconvert_exporter": "python",
   "pygments_lexer": "ipython3",
   "version": "3.9.21"
  }
 },
 "nbformat": 4,
 "nbformat_minor": 5
}
