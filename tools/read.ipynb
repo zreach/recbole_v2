{
 "cells": [
  {
   "cell_type": "code",
   "execution_count": 1,
   "id": "cb08de73",
   "metadata": {},
   "outputs": [],
   "source": [
    "import pickle \n",
    "\n",
    "with open('/user/zhouyz/rec/recbole_v2/dataset/m4a/m4a-muq.pkl', 'rb') as f:\n",
    "    muq = pickle.load(f)"
   ]
  },
  {
   "cell_type": "code",
   "execution_count": 5,
   "id": "c490ed7a",
   "metadata": {},
   "outputs": [
    {
     "data": {
      "text/plain": [
       "array([-0.05709518, -0.01755665,  0.26948905, ..., -0.45364156,\n",
       "       -0.29828364, -0.20750761], dtype=float32)"
      ]
     },
     "execution_count": 5,
     "metadata": {},
     "output_type": "execute_result"
    }
   ],
   "source": [
    "muq['1E3CsI2ky5fiPqcB'][11]"
   ]
  },
  {
   "cell_type": "code",
   "execution_count": 25,
   "id": "28f6e514",
   "metadata": {},
   "outputs": [],
   "source": [
    "with open('/user/zhouyz/rec/recbole_v2/embeddings_cached.pkl', 'rb') as f:\n",
    "    embed_dict = pickle.load(f)\n",
    "all_item_embeddings_cached = embed_dict['all_item_embeddings_cached']\n",
    "user_embedding = embed_dict['user_embedding']"
   ]
  },
  {
   "cell_type": "code",
   "execution_count": 31,
   "id": "462271d8",
   "metadata": {},
   "outputs": [
    {
     "data": {
      "text/plain": [
       "(14098, 67440)"
      ]
     },
     "execution_count": 31,
     "metadata": {},
     "output_type": "execute_result"
    }
   ],
   "source": [
    "matrix = user_embedding@all_item_embeddings_cached.T\n",
    "matrix.shape"
   ]
  },
  {
   "cell_type": "code",
   "execution_count": 35,
   "id": "2e76880a",
   "metadata": {},
   "outputs": [
    {
     "data": {
      "text/plain": [
       "np.float32(-4.7043233)"
      ]
     },
     "execution_count": 35,
     "metadata": {},
     "output_type": "execute_result"
    }
   ],
   "source": [
    "matrix[0].min()"
   ]
  },
  {
   "cell_type": "code",
   "execution_count": 29,
   "id": "66379efe",
   "metadata": {},
   "outputs": [
    {
     "data": {
      "text/plain": [
       "array([[-0.0134506 ,  0.01754954,  0.01133389, ...,  0.01741691,\n",
       "        -0.00666428, -0.01890191],\n",
       "       [-0.44059074,  0.11917201, -0.16673377, ..., -0.12409807,\n",
       "         0.01732742,  0.2210053 ],\n",
       "       [ 0.07998666, -0.04763941, -0.6185255 , ...,  0.29370236,\n",
       "        -0.2963327 , -0.1130242 ],\n",
       "       ...,\n",
       "       [-0.5011362 , -0.36121216, -0.00086524, ...,  0.07947102,\n",
       "        -0.02089186,  0.25453848],\n",
       "       [ 0.07869899, -0.44264567, -0.56994605, ...,  0.33134097,\n",
       "        -0.26390994, -0.25961074],\n",
       "       [ 0.07045959,  0.05829197, -0.48222038, ...,  0.19787201,\n",
       "        -0.28571707, -0.05160627]], dtype=float32)"
      ]
     },
     "execution_count": 29,
     "metadata": {},
     "output_type": "execute_result"
    }
   ],
   "source": [
    "all_item_embeddings_cached"
   ]
  }
 ],
 "metadata": {
  "kernelspec": {
   "display_name": "zhouyz",
   "language": "python",
   "name": "python3"
  },
  "language_info": {
   "codemirror_mode": {
    "name": "ipython",
    "version": 3
   },
   "file_extension": ".py",
   "mimetype": "text/x-python",
   "name": "python",
   "nbconvert_exporter": "python",
   "pygments_lexer": "ipython3",
   "version": "3.9.21"
  }
 },
 "nbformat": 4,
 "nbformat_minor": 5
}
